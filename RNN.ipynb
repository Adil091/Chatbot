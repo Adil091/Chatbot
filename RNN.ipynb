{
 "cells": [
  {
   "cell_type": "code",
   "execution_count": null,
   "id": "ac1d5065",
   "metadata": {},
   "outputs": [],
   "source": [
    "%pip install --upgrade pip\n",
    "%pip install numpy\n",
    "%pip install tensorflow==2.19.0\n",
    "import tensorflow as tf\n",
    "from tensorflow.keras.models import Sequential\n",
    "from tensorflow.keras.layers import Embedding, SimpleRNN, Dense\n",
    "from tensorflow.keras.preprocessing.sequence import pad_sequences"
   ]
  },
  {
   "cell_type": "code",
   "execution_count": 4,
   "id": "8dff385a",
   "metadata": {},
   "outputs": [],
   "source": [
    "conversations = [\n",
    "    (\"Hi\", \"Hello! How can I help you?\"),\n",
    "    (\"What is your name?\", \"I am a chatbot.\"),\n",
    "    (\"How does the weather look today?\", \"I'm sorry, I don't have information on the weather.\"),\n",
    "    (\"Goodbye\", \"Goodbye! Have a great day.\"),\n",
    "    (\"Can you tell me a joke?\", \"Why don't skeletons fight each other? They don't have the guts!\"),\n",
    "    (\"What is 2 + 2?\", \"2 + 2 equals 4.\"),\n",
    "    (\"Tell me a fun fact.\", \"Did you know that honey never spoils? Archaeologists have found pots of honey in ancient tombs that are over 3,000 years old.\"),\n",
    "    (\"How are you?\", \"I'm just a chatbot, but thanks for asking! How are you?\"),\n",
    "    (\"Where are you from?\", \"I don't have a physical location, but I exist here to assist you!\"),\n",
    "    (\"What can you do?\", \"I can help with answering questions, telling jokes, providing facts, and more! Just ask away.\"),\n",
    "    (\"Can you help me with homework?\", \"I can certainly try! What subject is it?\"),\n",
    "    (\"What is the capital of France?\", \"The capital of France is Paris.\"),\n",
    "    (\"Who won the 2020 US Presidential election?\", \"Joe Biden won the 2020 US Presidential election.\"),\n",
    "    (\"What time is it?\", \"I don't have access to real-time data, but you can check the time on your device.\"),\n",
    "    (\"What's the weather like in New York?\", \"I’m sorry, I can't provide live weather updates. Please check a weather app for the current conditions.\"),\n",
    "    (\"Do you like movies?\", \"I don't have personal preferences, but I can tell you about popular movies if you like!\"),\n",
    "    (\"What is your favorite color?\", \"I don't have preferences, but blue is a popular color. What about you?\"),\n",
    "    (\"How old are you?\", \"I don’t age since I’m a chatbot, but I’m always ready to chat!\"),\n",
    "    (\"What is 5 times 6?\", \"5 times 6 equals 30.\"),\n",
    "    (\"Can you speak multiple languages?\", \"Yes, I can assist in many languages! How can I help you in another language?\"),\n",
    "    (\"Good morning\", \"Good morning! How can I assist you today?\"),\n",
    "    (\"Are you real?\", \"I’m real in the sense that I exist as a program, but I don't have physical form.\"),\n",
    "    (\"What's your purpose?\", \"My purpose is to assist with information, conversation, and fun interactions!\"),\n",
    "    (\"What products do you sell?\", \"We sell a wide range of products including electronics, textiles, machinery, fruits, and vegetables.\"),\n",
    "    (\"When are your office hours?\", \"Our office is open from 9 AM to 5 PM, Monday to Friday.\"),\n",
    "    (\"Can you tell me more about your export services?\", \"We specialize in exporting consumer goods, industrial equipment, agricultural products like fruits and vegetables, and much more.\"),\n",
    "    (\"Do you sell products in different countries?\", \"Yes, we export to several countries around the world including the USA, Germany, China, India, and many others.\"),\n",
    "    (\"Which countries do you export to?\", \"We export to a wide variety of countries including the United States, Canada, the United Kingdom, Australia, and many more.\"),\n",
    "    (\"Can you sell products to different countries?\", \"Absolutely! We are capable of handling international shipments to different countries depending on your requirements.\"),\n",
    "    (\"How do I place an order for export?\", \"You can place an order by contacting us via our website or directly reaching out to our customer service team.\"),\n",
    "    (\"Do you offer bulk export services?\", \"Yes, we offer bulk export services for large orders. Let us know the quantity, and we will provide you with a tailored solution.\"),\n",
    "    (\"What type of products do you specialize in?\", \"We specialize in electronics, agricultural products such as fruits and vegetables, textiles, and consumer goods.\"),\n",
    "    (\"Do you offer custom export packages?\", \"Yes, we offer custom export packages based on the specific needs and requirements of our clients.\"),\n",
    "    (\"What is the minimum order quantity?\", \"The minimum order quantity varies by product. Please contact us for more details about your specific requirements.\"),\n",
    "    (\"Can I track my order?\", \"Yes, once your order is dispatched, we provide tracking information so you can follow the shipment.\"),\n",
    "    (\"What types of payment methods do you accept?\", \"We accept various payment methods, including bank transfers, credit cards, and online payment systems.\"),\n",
    "    (\"Are there any export restrictions?\", \"Certain products may have export restrictions based on international laws. We will inform you if any restrictions apply.\"),\n",
    "    (\"Do you handle customs clearance?\", \"Yes, we handle customs clearance for international shipments, ensuring your products are delivered without issues.\"),\n",
    "    (\"How long does international shipping take?\", \"International shipping times vary depending on the destination country and the type of product. On average, it can take between 7 to 30 days.\"),\n",
    "    (\"Can you handle perishable goods?\", \"Yes, we can arrange the transportation of perishable goods like fruits and vegetables using temperature-controlled containers.\"),\n",
    "    (\"What is the cost of shipping?\", \"Shipping costs vary depending on the weight, size, and destination of the products. Please contact us for a quote.\"),\n",
    "    (\"Do you offer insurance on shipments?\", \"Yes, we offer insurance on shipments to ensure your goods are protected during transit.\"),\n",
    "    (\"How can I get in touch with your sales team?\", \"You can contact our sales team via email or phone, or simply fill out a form on our website.\"),\n",
    "    (\"Can I visit your office?\", \"Yes, you're welcome to visit our office during business hours. We would be happy to arrange a meeting.\"),\n",
    "    (\"What documents are needed for international shipping?\", \"You will typically need a commercial invoice, packing list, and shipping instructions, among others. We can help guide you through the process.\"),\n",
    "    (\"Do you handle requests for specific products?\", \"Yes, we accept requests for specific products. If you're looking for something unique, feel free to let us know!\"),\n",
    "    (\"Can I request a product not listed in your catalog?\", \"Absolutely! If there’s a specific product you're interested in, we can work on sourcing it for you.\"),\n",
    "    (\"Are you open to new business opportunities?\", \"Yes, we are always open to new business opportunities and partnerships in the import/export industry.\"),\n",
    "    (\"Do you collaborate with other businesses?\", \"Yes, we collaborate with various businesses to expand our reach and provide high-quality products worldwide.\"),\n",
    "    (\"Can you supply rare or specialized products?\", \"Yes, we have the capability to source and supply rare or specialized products based on customer demand.\"),\n",
    "    (\"Can you supply seasonal products?\", \"Yes, we can supply seasonal products like fruits and vegetables depending on the time of year and availability.\"),\n",
    "    (\"Are you looking to expand to new markets?\", \"Yes, we are always looking for opportunities to expand our market presence and work with new partners around the world.\"),\n",
    "    (\"Do you supply products for importers and distributors?\", \"Yes, we regularly supply products for importers and distributors who operate in different regions.\"),\n",
    "    (\"Can you help me with sourcing a new product?\", \"Yes, we can assist you in sourcing new products based on your requirements and location.\")\n",
    "]\n"
   ]
  },
  {
   "cell_type": "code",
   "execution_count": 10,
   "id": "3e1bbd52",
   "metadata": {},
   "outputs": [],
   "source": [
    "conversations_lower = []\n",
    "for conv in conversations:\n",
    "    conv_new=conv[0].lower(),conv[1].lower()\n",
    "    conversations_lower.append(conv_new)"
   ]
  }
 ],
 "metadata": {
  "kernelspec": {
   "display_name": "venv-python",
   "language": "python",
   "name": "python3"
  },
  "language_info": {
   "codemirror_mode": {
    "name": "ipython",
    "version": 3
   },
   "file_extension": ".py",
   "mimetype": "text/x-python",
   "name": "python",
   "nbconvert_exporter": "python",
   "pygments_lexer": "ipython3",
   "version": "3.12.3"
  }
 },
 "nbformat": 4,
 "nbformat_minor": 5
}
