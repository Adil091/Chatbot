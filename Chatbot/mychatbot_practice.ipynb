{
 "cells": [
  {
   "cell_type": "code",
   "execution_count": null,
   "id": "4e416fa3",
   "metadata": {},
   "outputs": [
    {
     "name": "stdout",
     "output_type": "stream",
     "text": [
      "Alan\n",
      "Alan: Hey there, I am a AI chatbot designed by Adil.\n",
      "Alan\n",
      "Alan: I'm not sure how to respond to that.\n",
      "Alan\n",
      "Alan: you can visit us any time between 11 to 4\n",
      "Alan\n"
     ]
    }
   ],
   "source": [
    "#Simple Chatbot that searches the sentences of keywords and give the reply\n",
    "import random\n",
    "\n",
    "#Python dictionaries\n",
    "# Mapping intents with list of keywords\n",
    "# keys - intents, keywords - list of values\n",
    "intents = {\n",
    "    \"greeting\": [\"hi\", \"hey\", \"hola\"],\n",
    "    \"time\": [\"working hours?\", \"how long it is open\", \"what is the best hours\", \"long\", \"business\", \"hours\"],\n",
    "    \"closing\": [\"bye for now!\", \"see you soon\"]\n",
    "}\n",
    "\n",
    "# Below are the responses that can be produced from chat box\n",
    "responses = {\n",
    "    \"greeting\": [\"Hey there, I am a AI chatbot designed by Adil.\"],\n",
    "    \"time\": [\"we are open from 11:00 am to 4:00 pm\", \"you can visit us any time between 11 to 4\"],\n",
    "    \"closing\": [\"BYE! Have a nice one\"]\n",
    "}\n",
    "while True:\n",
    "    print('Alan')\n",
    "    q = input()\n",
    "    q = q.lower()\n",
    "    selected_intent = ''\n",
    "\n",
    "    # Iterate through the intents dictionary\n",
    "    for intent, keywords in intents.items():\n",
    "        if q in keywords:  # Check if the input matches any keyword\n",
    "            selected_intent = intent  # Store the matched intent\n",
    "            break  # Exit the `for` loop once a match is found\n",
    "\n",
    "    # If an intent was matched, respond with a random message\n",
    "    if selected_intent:\n",
    "        print(\"Alan:\", random.choice(responses[selected_intent]))  # Random response\n",
    "    else:\n",
    "        print(\"Alan: I'm not sure how to respond to that.\")"
   ]
  },
  {
   "cell_type": "code",
   "execution_count": null,
   "id": "dca232bf",
   "metadata": {},
   "outputs": [],
   "source": [
    "# Chatbot that slice down input sentence into words and then give response\n",
    "import random\n",
    "\n",
    "intents = {\n",
    "    \"greeting\": [\"hi\", \"hey\", \"hola\"],\n",
    "    \"time\": [\"working hours?\", \"how long it is open\", \"what is the best hours\", \"long\", \"business\", \"hours\"],\n",
    "    \"closing\": [\"bye for now!\", \"see you soon\"]\n",
    "}\n",
    "\n",
    "responses = {\n",
    "    \"greeting\": [\"Hey there, I am a AI chatbot designed by Adil.\"],\n",
    "    \"time\": [\"we are open from 11:00 am to 4:00 pm\", \"you can visit us any time between 11 to 4\"],\n",
    "    \"closing\": [\"BYE! Have a nice one\"]\n",
    "}\n",
    "\n",
    "print(\"🤖 Alan the Chatbot\")\n",
    "\n",
    "while True:\n",
    "    #  Get input and convert to lowercase\n",
    "    user_input = input(\"You: \").lower()\n",
    "    #  Split input into words\n",
    "    words = user_input.split()\n",
    "    #  Create an empty set to store matched intents\n",
    "    matched = set()\n",
    "#  Loop through each intent and its keywords\n",
    "    for intent, keywords in intents.items():\n",
    "#  Check each keyword for that intent\n",
    "        for keyword in keywords:\n",
    "#  Loop through each word from user input\n",
    "            for word in words:\n",
    "#  If keyword matches word, store the intent\n",
    "                if keyword == word:\n",
    "                    matched.add(intent)\n",
    "#  If at least one intent matched\n",
    "    if matched:\n",
    "        reply = \" \".join(random.choice(responses[intent]) for intent in matched)\n",
    "#  Show one random response per matched intent\n",
    "        print(\"Alan:\", reply)\n",
    "    else:\n",
    "#  Fallback response\n",
    "        print(\"Alan: Sorry, I didn’t understand that.\")\n"
   ]
  }
 ],
 "metadata": {
  "kernelspec": {
   "display_name": "venv-python",
   "language": "python",
   "name": "python3"
  },
  "language_info": {
   "codemirror_mode": {
    "name": "ipython",
    "version": 3
   },
   "file_extension": ".py",
   "mimetype": "text/x-python",
   "name": "python",
   "nbconvert_exporter": "python",
   "pygments_lexer": "ipython3",
   "version": "3.12.3"
  }
 },
 "nbformat": 4,
 "nbformat_minor": 5
}
